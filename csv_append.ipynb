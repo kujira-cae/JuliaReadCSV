{
 "cells": [
  {
   "cell_type": "code",
   "execution_count": 3,
   "id": "12e12c0e-fb03-4f01-b141-47dd013c1536",
   "metadata": {},
   "outputs": [],
   "source": [
    "using CSV, DataFrames"
   ]
  },
  {
   "cell_type": "code",
   "execution_count": 17,
   "id": "b496bff8-0773-48cc-bff4-a9230e01f45f",
   "metadata": {},
   "outputs": [
    {
     "data": {
      "text/plain": [
       "\"./water_air_data_rows63936.csv\""
      ]
     },
     "execution_count": 17,
     "metadata": {},
     "output_type": "execute_result"
    }
   ],
   "source": [
    "# 時系列データをcsvから読み込む\n",
    "sample_data = CSV.read(\"water_air_data.csv\", DataFrame)\n",
    "for i in 1:6\n",
    "    sample_data = append!(sample_data, sample_data)\n",
    "end\n",
    "num_rows = nrow(sample_data)\n",
    "time = sample_data[:, :Time]\n",
    "for i in 1:num_rows\n",
    "    time[i] = i * 10\n",
    "end\n",
    "sample_data[:, :Time] = time\n",
    "CSV.write(\"./water_air_data_rows$num_rows.csv\", sample_data)"
   ]
  }
 ],
 "metadata": {
  "kernelspec": {
   "display_name": "Julia 1.6.1",
   "language": "julia",
   "name": "julia-1.6"
  },
  "language_info": {
   "file_extension": ".jl",
   "mimetype": "application/julia",
   "name": "julia",
   "version": "1.6.1"
  }
 },
 "nbformat": 4,
 "nbformat_minor": 5
}
