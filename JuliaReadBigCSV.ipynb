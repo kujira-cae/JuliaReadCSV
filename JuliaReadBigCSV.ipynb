{
 "cells": [
  {
   "cell_type": "code",
   "execution_count": 1,
   "id": "8aee6c8d-9812-40d8-a2c9-f45979e8b932",
   "metadata": {},
   "outputs": [],
   "source": [
    "using CSV, DataFrames, Plots"
   ]
  },
  {
   "cell_type": "code",
   "execution_count": 2,
   "id": "568644c5-4992-4f2b-8163-df4b8babcb4c",
   "metadata": {},
   "outputs": [
    {
     "data": {
      "text/html": [
       "<div class=\"data-frame\"><p>1 rows × 3 columns</p><table class=\"data-frame\"><thead><tr><th></th><th>WaterCp</th><th>WaterRho</th><th>AtmosphericPressure</th></tr><tr><th></th><th title=\"Int64\">Int64</th><th title=\"Int64\">Int64</th><th title=\"Float64\">Float64</th></tr></thead><tbody><tr><th>1</th><td>4200</td><td>1000</td><td>1013.25</td></tr></tbody></table></div>"
      ],
      "text/latex": [
       "\\begin{tabular}{r|ccc}\n",
       "\t& WaterCp & WaterRho & AtmosphericPressure\\\\\n",
       "\t\\hline\n",
       "\t& Int64 & Int64 & Float64\\\\\n",
       "\t\\hline\n",
       "\t1 & 4200 & 1000 & 1013.25 \\\\\n",
       "\\end{tabular}\n"
      ],
      "text/plain": [
       "\u001b[1m1×3 DataFrame\u001b[0m\n",
       "\u001b[1m Row \u001b[0m│\u001b[1m WaterCp \u001b[0m\u001b[1m WaterRho \u001b[0m\u001b[1m AtmosphericPressure \u001b[0m\n",
       "\u001b[1m     \u001b[0m│\u001b[90m Int64   \u001b[0m\u001b[90m Int64    \u001b[0m\u001b[90m Float64             \u001b[0m\n",
       "─────┼────────────────────────────────────────\n",
       "   1 │    4200      1000              1013.25"
      ]
     },
     "execution_count": 2,
     "metadata": {},
     "output_type": "execute_result"
    }
   ],
   "source": [
    "# 物性データをcsvから読み込む\n",
    "# 2行分は不要なので3行目をヘッダーとして読み込む\n",
    "properties = CSV.read(\"properties.csv\", DataFrame; header=3)"
   ]
  },
  {
   "cell_type": "code",
   "execution_count": 3,
   "id": "c9eea629-e1b6-46f5-884e-bbe1aaeae1b2",
   "metadata": {},
   "outputs": [
    {
     "data": {
      "text/plain": [
       "1013.25"
      ]
     },
     "execution_count": 3,
     "metadata": {},
     "output_type": "execute_result"
    }
   ],
   "source": [
    "# 水の比熱 [J/kg・K]\n",
    "cp_water = properties[1, :WaterCp]\n",
    "# 水の密度 [kg/m3]\n",
    "rho_water = properties[1, :WaterRho]\n",
    "# 大気圧 [hPa]\n",
    "air_p = properties[1, :AtmosphericPressure]"
   ]
  },
  {
   "cell_type": "code",
   "execution_count": 4,
   "id": "87fd6af6-ac54-4288-9c71-211997b7c6ba",
   "metadata": {},
   "outputs": [
    {
     "data": {
      "text/html": [
       "<div class=\"data-frame\"><p>63,936 rows × 6 columns</p><table class=\"data-frame\"><thead><tr><th></th><th>Time</th><th>FlowRate</th><th>InletTemperature</th><th>OutletTemperature</th><th>AirTemperature</th><th>RelativeHumidity</th></tr><tr><th></th><th title=\"Int64\">Int64</th><th title=\"Float64\">Float64</th><th title=\"Float64\">Float64</th><th title=\"Float64\">Float64</th><th title=\"Float64\">Float64</th><th title=\"Float64\">Float64</th></tr></thead><tbody><tr><th>1</th><td>10</td><td>41.6485</td><td>25.1724</td><td>29.7713</td><td>29.8</td><td>82.7</td></tr><tr><th>2</th><td>20</td><td>40.5922</td><td>25.6032</td><td>30.2638</td><td>29.8</td><td>84.6</td></tr><tr><th>3</th><td>30</td><td>43.1063</td><td>25.5635</td><td>28.9655</td><td>30.4</td><td>84.3</td></tr><tr><th>4</th><td>40</td><td>42.6069</td><td>25.1515</td><td>27.5197</td><td>30.0</td><td>85.5</td></tr><tr><th>5</th><td>50</td><td>43.8942</td><td>25.0849</td><td>28.2331</td><td>29.8</td><td>81.3</td></tr><tr><th>6</th><td>60</td><td>43.7551</td><td>25.3595</td><td>27.4537</td><td>30.6</td><td>84.8</td></tr><tr><th>7</th><td>70</td><td>43.1546</td><td>25.5934</td><td>28.5807</td><td>30.4</td><td>85.0</td></tr><tr><th>8</th><td>80</td><td>41.4452</td><td>25.8141</td><td>28.9785</td><td>30.3</td><td>83.2</td></tr><tr><th>9</th><td>90</td><td>42.1474</td><td>25.2231</td><td>27.464</td><td>30.7</td><td>83.9</td></tr><tr><th>10</th><td>100</td><td>43.2727</td><td>25.1094</td><td>29.1545</td><td>30.5</td><td>84.3</td></tr><tr><th>11</th><td>110</td><td>46.3721</td><td>25.1433</td><td>28.5332</td><td>30.2</td><td>83.8</td></tr><tr><th>12</th><td>120</td><td>45.6333</td><td>25.2448</td><td>29.615</td><td>30.5</td><td>85.1</td></tr><tr><th>13</th><td>130</td><td>45.4463</td><td>25.3739</td><td>29.9511</td><td>29.9</td><td>82.4</td></tr><tr><th>14</th><td>140</td><td>44.6824</td><td>25.2408</td><td>27.6228</td><td>30.7</td><td>84.9</td></tr><tr><th>15</th><td>150</td><td>45.4757</td><td>25.1207</td><td>29.2554</td><td>30.5</td><td>85.0</td></tr><tr><th>16</th><td>160</td><td>46.5304</td><td>25.3565</td><td>27.3592</td><td>30.4</td><td>82.4</td></tr><tr><th>17</th><td>170</td><td>45.5666</td><td>25.4936</td><td>28.6856</td><td>29.8</td><td>83.3</td></tr><tr><th>18</th><td>180</td><td>46.1338</td><td>25.0277</td><td>29.2159</td><td>30.1</td><td>80.9</td></tr><tr><th>19</th><td>190</td><td>46.5694</td><td>25.7015</td><td>30.1318</td><td>30.3</td><td>81.4</td></tr><tr><th>20</th><td>200</td><td>42.2415</td><td>25.1646</td><td>28.2963</td><td>30.3</td><td>84.4</td></tr><tr><th>21</th><td>210</td><td>42.4949</td><td>25.3896</td><td>28.3239</td><td>30.5</td><td>82.4</td></tr><tr><th>22</th><td>220</td><td>42.6012</td><td>25.2482</td><td>28.3458</td><td>30.7</td><td>84.7</td></tr><tr><th>23</th><td>230</td><td>45.7278</td><td>25.3545</td><td>28.3432</td><td>30.7</td><td>84.0</td></tr><tr><th>24</th><td>240</td><td>44.6861</td><td>25.6056</td><td>28.4135</td><td>29.9</td><td>81.5</td></tr><tr><th>25</th><td>250</td><td>40.8367</td><td>25.4093</td><td>27.6978</td><td>29.8</td><td>81.6</td></tr><tr><th>26</th><td>260</td><td>40.604</td><td>25.2811</td><td>27.2886</td><td>30.4</td><td>84.9</td></tr><tr><th>27</th><td>270</td><td>41.6428</td><td>25.3643</td><td>28.4723</td><td>30.5</td><td>84.0</td></tr><tr><th>28</th><td>280</td><td>42.908</td><td>25.372</td><td>28.8918</td><td>29.8</td><td>80.8</td></tr><tr><th>29</th><td>290</td><td>40.2103</td><td>25.6261</td><td>29.3732</td><td>30.5</td><td>82.7</td></tr><tr><th>30</th><td>300</td><td>38.4034</td><td>24.9211</td><td>29.3162</td><td>30.0</td><td>82.6</td></tr><tr><th>&vellip;</th><td>&vellip;</td><td>&vellip;</td><td>&vellip;</td><td>&vellip;</td><td>&vellip;</td><td>&vellip;</td></tr></tbody></table></div>"
      ],
      "text/latex": [
       "\\begin{tabular}{r|cccccc}\n",
       "\t& Time & FlowRate & InletTemperature & OutletTemperature & AirTemperature & RelativeHumidity\\\\\n",
       "\t\\hline\n",
       "\t& Int64 & Float64 & Float64 & Float64 & Float64 & Float64\\\\\n",
       "\t\\hline\n",
       "\t1 & 10 & 41.6485 & 25.1724 & 29.7713 & 29.8 & 82.7 \\\\\n",
       "\t2 & 20 & 40.5922 & 25.6032 & 30.2638 & 29.8 & 84.6 \\\\\n",
       "\t3 & 30 & 43.1063 & 25.5635 & 28.9655 & 30.4 & 84.3 \\\\\n",
       "\t4 & 40 & 42.6069 & 25.1515 & 27.5197 & 30.0 & 85.5 \\\\\n",
       "\t5 & 50 & 43.8942 & 25.0849 & 28.2331 & 29.8 & 81.3 \\\\\n",
       "\t6 & 60 & 43.7551 & 25.3595 & 27.4537 & 30.6 & 84.8 \\\\\n",
       "\t7 & 70 & 43.1546 & 25.5934 & 28.5807 & 30.4 & 85.0 \\\\\n",
       "\t8 & 80 & 41.4452 & 25.8141 & 28.9785 & 30.3 & 83.2 \\\\\n",
       "\t9 & 90 & 42.1474 & 25.2231 & 27.464 & 30.7 & 83.9 \\\\\n",
       "\t10 & 100 & 43.2727 & 25.1094 & 29.1545 & 30.5 & 84.3 \\\\\n",
       "\t11 & 110 & 46.3721 & 25.1433 & 28.5332 & 30.2 & 83.8 \\\\\n",
       "\t12 & 120 & 45.6333 & 25.2448 & 29.615 & 30.5 & 85.1 \\\\\n",
       "\t13 & 130 & 45.4463 & 25.3739 & 29.9511 & 29.9 & 82.4 \\\\\n",
       "\t14 & 140 & 44.6824 & 25.2408 & 27.6228 & 30.7 & 84.9 \\\\\n",
       "\t15 & 150 & 45.4757 & 25.1207 & 29.2554 & 30.5 & 85.0 \\\\\n",
       "\t16 & 160 & 46.5304 & 25.3565 & 27.3592 & 30.4 & 82.4 \\\\\n",
       "\t17 & 170 & 45.5666 & 25.4936 & 28.6856 & 29.8 & 83.3 \\\\\n",
       "\t18 & 180 & 46.1338 & 25.0277 & 29.2159 & 30.1 & 80.9 \\\\\n",
       "\t19 & 190 & 46.5694 & 25.7015 & 30.1318 & 30.3 & 81.4 \\\\\n",
       "\t20 & 200 & 42.2415 & 25.1646 & 28.2963 & 30.3 & 84.4 \\\\\n",
       "\t21 & 210 & 42.4949 & 25.3896 & 28.3239 & 30.5 & 82.4 \\\\\n",
       "\t22 & 220 & 42.6012 & 25.2482 & 28.3458 & 30.7 & 84.7 \\\\\n",
       "\t23 & 230 & 45.7278 & 25.3545 & 28.3432 & 30.7 & 84.0 \\\\\n",
       "\t24 & 240 & 44.6861 & 25.6056 & 28.4135 & 29.9 & 81.5 \\\\\n",
       "\t25 & 250 & 40.8367 & 25.4093 & 27.6978 & 29.8 & 81.6 \\\\\n",
       "\t26 & 260 & 40.604 & 25.2811 & 27.2886 & 30.4 & 84.9 \\\\\n",
       "\t27 & 270 & 41.6428 & 25.3643 & 28.4723 & 30.5 & 84.0 \\\\\n",
       "\t28 & 280 & 42.908 & 25.372 & 28.8918 & 29.8 & 80.8 \\\\\n",
       "\t29 & 290 & 40.2103 & 25.6261 & 29.3732 & 30.5 & 82.7 \\\\\n",
       "\t30 & 300 & 38.4034 & 24.9211 & 29.3162 & 30.0 & 82.6 \\\\\n",
       "\t$\\dots$ & $\\dots$ & $\\dots$ & $\\dots$ & $\\dots$ & $\\dots$ & $\\dots$ \\\\\n",
       "\\end{tabular}\n"
      ],
      "text/plain": [
       "\u001b[1m63936×6 DataFrame\u001b[0m\n",
       "\u001b[1m   Row \u001b[0m│\u001b[1m Time   \u001b[0m\u001b[1m FlowRate \u001b[0m\u001b[1m InletTemperature \u001b[0m\u001b[1m OutletTemperature \u001b[0m\u001b[1m AirTemperature\u001b[0m ⋯\n",
       "\u001b[1m       \u001b[0m│\u001b[90m Int64  \u001b[0m\u001b[90m Float64  \u001b[0m\u001b[90m Float64          \u001b[0m\u001b[90m Float64           \u001b[0m\u001b[90m Float64       \u001b[0m ⋯\n",
       "───────┼────────────────────────────────────────────────────────────────────────\n",
       "     1 │     10   41.6485           25.1724            29.7713            29.8 ⋯\n",
       "     2 │     20   40.5922           25.6032            30.2638            29.8\n",
       "     3 │     30   43.1063           25.5635            28.9655            30.4\n",
       "     4 │     40   42.6069           25.1515            27.5197            30.0\n",
       "     5 │     50   43.8942           25.0849            28.2331            29.8 ⋯\n",
       "     6 │     60   43.7551           25.3595            27.4537            30.6\n",
       "     7 │     70   43.1546           25.5934            28.5807            30.4\n",
       "     8 │     80   41.4452           25.8141            28.9785            30.3\n",
       "     9 │     90   42.1474           25.2231            27.464             30.7 ⋯\n",
       "    10 │    100   43.2727           25.1094            29.1545            30.5\n",
       "    11 │    110   46.3721           25.1433            28.5332            30.2\n",
       "   ⋮   │   ⋮        ⋮             ⋮                  ⋮                ⋮        ⋱\n",
       " 63927 │ 639270   40.9485           25.5569            28.3028            30.1\n",
       " 63928 │ 639280   38.9669           24.9642            27.1613            30.5 ⋯\n",
       " 63929 │ 639290   38.4266           25.803             29.621             30.7\n",
       " 63930 │ 639300   37.255            25.356             29.5444            30.5\n",
       " 63931 │ 639310   39.9255           25.3369            27.1998            30.6\n",
       " 63932 │ 639320   36.1024           24.9644            29.0999            30.5 ⋯\n",
       " 63933 │ 639330   35.4559           25.219             28.0734            30.5\n",
       " 63934 │ 639340   37.8612           25.3873            27.9216            30.7\n",
       " 63935 │ 639350   36.1671           25.1275            28.4253            29.8\n",
       " 63936 │ 639360   38.356            25.6342            27.9404            29.8 ⋯\n",
       "\u001b[36m                                                 1 column and 63915 rows omitted\u001b[0m"
      ]
     },
     "execution_count": 4,
     "metadata": {},
     "output_type": "execute_result"
    }
   ],
   "source": [
    "# 時系列データをcsvから読み込む\n",
    "sample_data = CSV.read(\"water_air_data_rows63936.csv\", DataFrame)"
   ]
  },
  {
   "cell_type": "code",
   "execution_count": 5,
   "id": "c1ff9b44-18ee-4a0b-8d39-e05e63ab9362",
   "metadata": {},
   "outputs": [
    {
     "data": {
      "text/plain": [
       "63936-element Vector{Float64}:\n",
       " 82.7\n",
       " 84.6\n",
       " 84.3\n",
       " 85.5\n",
       " 81.3\n",
       " 84.8\n",
       " 85.0\n",
       " 83.2\n",
       " 83.9\n",
       " 84.3\n",
       " 83.8\n",
       " 85.1\n",
       " 82.4\n",
       "  ⋮\n",
       " 85.5\n",
       " 83.0\n",
       " 85.1\n",
       " 85.5\n",
       " 84.4\n",
       " 82.6\n",
       " 80.8\n",
       " 83.3\n",
       " 82.5\n",
       " 81.7\n",
       " 84.4\n",
       " 80.8"
      ]
     },
     "execution_count": 5,
     "metadata": {},
     "output_type": "execute_result"
    }
   ],
   "source": [
    "# 経過時間 [s]\n",
    "time = sample_data[:, :Time]\n",
    "# 冷却水流量 [L/min]\n",
    "flow_rate = sample_data[:, :FlowRate]\n",
    "# 冷却水入り温度 [℃]\n",
    "inlet_temp = sample_data[:, :InletTemperature]\n",
    "# 冷却水戻り温度 [℃]\n",
    "outlet_temp = sample_data[:, :OutletTemperature]\n",
    "# 気温 [℃]\n",
    "air_temp = sample_data[:, :AirTemperature]\n",
    "# 相対湿度 [%]\n",
    "relative_humidity = sample_data[:, :RelativeHumidity]"
   ]
  },
  {
   "cell_type": "code",
   "execution_count": 7,
   "id": "71ba7fdd-9382-45bf-941d-2a29e625bc0c",
   "metadata": {},
   "outputs": [
    {
     "name": "stdout",
     "output_type": "stream",
     "text": [
      "  0.127224 seconds (1.74 M allocations: 27.971 MiB, 34.98% compilation time)\n"
     ]
    },
    {
     "data": {
      "text/plain": [
       "\"./sample_output_rows63936.csv\""
      ]
     },
     "execution_count": 7,
     "metadata": {},
     "output_type": "execute_result"
    }
   ],
   "source": [
    "# 行数取得\n",
    "num_rows = nrow(sample_data)\n",
    "# 列数取得\n",
    "num_columns = ncol(sample_data)\n",
    "# 行数と同じ要素数の配列を用意\n",
    "# 冷却水による脱熱量\n",
    "heat_loss = [Float64(1.0) for i in 1:num_rows]\n",
    "# 容積絶対湿度 [g/m3]\n",
    "volumetric_humidity = [Float64(1.0) for i in 1:num_rows]\n",
    "# 重量絶対湿度 [kg/kg(DA)]\n",
    "mixing_ratio = [Float64(1.0) for i in 1:num_rows]\n",
    "\n",
    "# for loopの時間を計測\n",
    "@time for i = 1:num_rows\n",
    "    # 冷却水の出入りの温度差\n",
    "    del_temp = outlet_temp[i] - inlet_temp[i]\n",
    "    # 冷却水の脱熱量\n",
    "    heat_loss[i] = flow_rate[i] / 1000 / 60 * cp_water * rho_water * del_temp # [W]\n",
    "    # 飽和水蒸気圧 [hPa]\n",
    "    es = 6.11 * 10 ^ (7.5 * air_temp[i] / (237.3 + air_temp[i]))\n",
    "    # 水蒸気分圧 [hPa]\n",
    "    e = es * relative_humidity[i] / 100\n",
    "    volumetric_humidity[i] = 217 * e / (273.15 + air_temp[i])\n",
    "    mixing_ratio[i] = 0.62198 * e / (air_p - e)\n",
    "end\n",
    "# 元データの配列に列追加、列名変更\n",
    "array1 = rename(hcat(sample_data, heat_loss), :x1 => :HeatLoss)\n",
    "array2 = rename(hcat(array1, volumetric_humidity), :x1 => :VolumetricHumidity)\n",
    "array3 = rename(hcat(array2, mixing_ratio), :x1 => :MixingRatio)\n",
    "# CSVに書き込み\n",
    "CSV.write(\"./sample_output_rows$num_rows.csv\", array3)"
   ]
  },
  {
   "cell_type": "code",
   "execution_count": null,
   "id": "a4f2b713-adac-4981-b804-86314f922856",
   "metadata": {},
   "outputs": [],
   "source": []
  }
 ],
 "metadata": {
  "kernelspec": {
   "display_name": "Julia 1.6.1",
   "language": "julia",
   "name": "julia-1.6"
  },
  "language_info": {
   "file_extension": ".jl",
   "mimetype": "application/julia",
   "name": "julia",
   "version": "1.6.1"
  }
 },
 "nbformat": 4,
 "nbformat_minor": 5
}
