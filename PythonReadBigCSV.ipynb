{
 "cells": [
  {
   "cell_type": "code",
   "execution_count": 21,
   "id": "211c7b39-f3ea-4c54-8686-1fe37ec8c497",
   "metadata": {},
   "outputs": [],
   "source": [
    "import pandas as pd"
   ]
  },
  {
   "cell_type": "code",
   "execution_count": 22,
   "id": "e4c7ee6f-23d3-467c-8670-da830a39540c",
   "metadata": {},
   "outputs": [],
   "source": [
    "# 物性データをcsvから読み込む\n",
    "# 2行分は不要なので3行目をヘッダーとして読み込む\n",
    "df_properties = pd.read_csv('properties.csv', header=2)\n",
    "# 時系列データをcsvから読み込む\n",
    "df_sample_data = pd.read_csv('water_air_data_rows63936.csv')\n",
    "\n",
    "# 水の比熱 [J/kg・K]\n",
    "cp_water = df_properties['WaterCp'][0]\n",
    "# 水の密度 [kg/m3]\n",
    "rho_water=  df_properties['WaterRho'][0]\n",
    "# 大気圧 [hPa]\n",
    "air_p = df_properties['AtmosphericPressure'][0]\n",
    "\n",
    "# 経過時間 [s]\n",
    "time = df_sample_data['Time']\n",
    "# 冷却水流量 [L/min]\n",
    "flow_rate = df_sample_data['FlowRate']\n",
    "# 冷却水入り温度 [℃]\n",
    "inlet_temp = df_sample_data['InletTemperature']\n",
    "# 冷却水戻り温度 [℃]\n",
    "outlet_temp = df_sample_data['OutletTemperature']\n",
    "# 気温 [℃]\n",
    "air_temp = df_sample_data['AirTemperature']\n",
    "# 相対湿度 [%]\n",
    "relative_humidity = df_sample_data['RelativeHumidity']"
   ]
  },
  {
   "cell_type": "code",
   "execution_count": 30,
   "id": "7f594d66-1e67-4c97-8be0-be7dc314ac25",
   "metadata": {},
   "outputs": [
    {
     "name": "stdout",
     "output_type": "stream",
     "text": [
      "Wall time: 1.52 s\n"
     ]
    }
   ],
   "source": [
    "%%time\n",
    "# 行数取得\n",
    "num_rows = len(df_sample_data)\n",
    "# 列数取得\n",
    "num_columns = len(df_sample_data.columns)\n",
    "\n",
    "# 行数と同じ要素数の配列を用意\n",
    "# 冷却水による脱熱量\n",
    "heat_loss = [float(1.0) for i in range(num_rows)]\n",
    "# 容積絶対湿度 [g/m3]\n",
    "volumetric_humidity = [float(1.0) for i in range(num_rows)]\n",
    "# 重量絶対湿度 [kg/kg(DA)]\n",
    "mixing_ratio = [float(1.0) for i in range(num_rows)]\n",
    "\n",
    "for i in range(num_rows):\n",
    "    # 冷却水の出入りの温度差\n",
    "    del_temp = outlet_temp[i] - inlet_temp[i]\n",
    "    # 冷却水の脱熱量\n",
    "    heat_loss[i] = flow_rate[i] / 1000 / 60 * cp_water * rho_water * del_temp # [W]\n",
    "    # 飽和水蒸気圧 [hPa]\n",
    "    es = 6.11 * 10 ** (7.5 * air_temp[i] / (237.3 + air_temp[i]))\n",
    "    # 水蒸気分圧 [hPa]\n",
    "    e = es * relative_humidity[i] / 100\n",
    "    volumetric_humidity[i] = 217 * e / (273.15 + air_temp[i])\n",
    "    mixing_ratio[i] = 0.62198 * e / (air_p - e)"
   ]
  },
  {
   "cell_type": "code",
   "execution_count": 31,
   "id": "6a54ad9a-0866-423a-a370-775a7ddb519c",
   "metadata": {},
   "outputs": [],
   "source": [
    "# DataFrameに計算した変数の配列を結合\n",
    "df_sample_data['HeatLoss'] = heat_loss\n",
    "df_sample_data['VolumetricHumidity'] = volumetric_humidity\n",
    "df_sample_data['MixingRatio'] = mixing_ratio\n",
    "# CSVに書き込み\n",
    "df_sample_data.to_csv(f'sample_output_rows{num_rows}_python.csv')"
   ]
  }
 ],
 "metadata": {
  "kernelspec": {
   "display_name": "Python 3.9.6 64-bit",
   "language": "python",
   "name": "python396jvsc74a57bd0c243f7b75c84068bad2032d1ac28d3ba6aa643a8b781fb798fb7b02f3c3f5aac"
  },
  "language_info": {
   "codemirror_mode": {
    "name": "ipython",
    "version": 3
   },
   "file_extension": ".py",
   "mimetype": "text/x-python",
   "name": "python",
   "nbconvert_exporter": "python",
   "pygments_lexer": "ipython3",
   "version": "3.9.6"
  }
 },
 "nbformat": 4,
 "nbformat_minor": 5
}
